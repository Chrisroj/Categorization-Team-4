{
 "cells": [
  {
   "cell_type": "code",
   "execution_count": 1,
   "id": "e587c87c",
   "metadata": {
    "_cell_guid": "b1076dfc-b9ad-4769-8c92-a6c4dae69d19",
    "_uuid": "8f2839f25d086af736a60e9eeb907d3b93b6e0e5",
    "execution": {
     "iopub.execute_input": "2022-03-12T03:19:02.782987Z",
     "iopub.status.busy": "2022-03-12T03:19:02.781449Z",
     "iopub.status.idle": "2022-03-12T03:19:02.786911Z",
     "shell.execute_reply": "2022-03-12T03:19:02.786238Z",
     "shell.execute_reply.started": "2022-03-12T03:18:37.301579Z"
    },
    "papermill": {
     "duration": 0.017436,
     "end_time": "2022-03-12T03:19:02.787068",
     "exception": false,
     "start_time": "2022-03-12T03:19:02.769632",
     "status": "completed"
    },
    "tags": []
   },
   "outputs": [],
   "source": [
    "# This Python 3 environment comes with many helpful analytics libraries installed\n",
    "# It is defined by the kaggle/python Docker image: https://github.com/kaggle/docker-python\n",
    "# For example, here's several helpful packages to load\n",
    "\n",
    "# import numpy as np # linear algebra\n",
    "# import pandas as pd # data processing, CSV file I/O (e.g. pd.read_csv)\n",
    "\n",
    "# Input data files are available in the read-only \"../input/\" directory\n",
    "# For example, running this (by clicking run or pressing Shift+Enter) will list all files under the input directory\n",
    "\n",
    "# import os\n",
    "# for dirname, _, filenames in os.walk('/kaggle/input'):\n",
    "#     for filename in filenames:\n",
    "#         print(os.path.join(dirname, filename))\n",
    "\n",
    "# You can write up to 20GB to the current directory (/kaggle/working/) that gets preserved as output when you create a version using \"Save & Run All\" \n",
    "# You can also write temporary files to /kaggle/temp/, but they won't be saved outside of the current session"
   ]
  },
  {
   "cell_type": "code",
   "execution_count": null,
   "id": "48b8a52e",
   "metadata": {
    "papermill": {
     "duration": 0.00572,
     "end_time": "2022-03-12T03:19:02.799307",
     "exception": false,
     "start_time": "2022-03-12T03:19:02.793587",
     "status": "completed"
    },
    "tags": []
   },
   "outputs": [],
   "source": []
  },
  {
   "cell_type": "code",
   "execution_count": null,
   "id": "48f46654",
   "metadata": {
    "papermill": {
     "duration": 0.005796,
     "end_time": "2022-03-12T03:19:02.811033",
     "exception": false,
     "start_time": "2022-03-12T03:19:02.805237",
     "status": "completed"
    },
    "tags": []
   },
   "outputs": [],
   "source": []
  },
  {
   "cell_type": "code",
   "execution_count": null,
   "id": "6dfd02d6",
   "metadata": {
    "papermill": {
     "duration": 0.00551,
     "end_time": "2022-03-12T03:19:02.822382",
     "exception": false,
     "start_time": "2022-03-12T03:19:02.816872",
     "status": "completed"
    },
    "tags": []
   },
   "outputs": [],
   "source": []
  }
 ],
 "metadata": {
  "kernelspec": {
   "display_name": "Python 3",
   "language": "python",
   "name": "python3"
  },
  "language_info": {
   "codemirror_mode": {
    "name": "ipython",
    "version": 3
   },
   "file_extension": ".py",
   "mimetype": "text/x-python",
   "name": "python",
   "nbconvert_exporter": "python",
   "pygments_lexer": "ipython3",
   "version": "3.7.12"
  },
  "papermill": {
   "default_parameters": {},
   "duration": 11.629807,
   "end_time": "2022-03-12T03:19:03.638312",
   "environment_variables": {},
   "exception": null,
   "input_path": "__notebook__.ipynb",
   "output_path": "__notebook__.ipynb",
   "parameters": {},
   "start_time": "2022-03-12T03:18:52.008505",
   "version": "2.3.3"
  }
 },
 "nbformat": 4,
 "nbformat_minor": 5
}
